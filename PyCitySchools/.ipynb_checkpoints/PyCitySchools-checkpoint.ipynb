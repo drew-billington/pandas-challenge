{
 "cells": [
  {
   "cell_type": "code",
   "execution_count": 1,
   "metadata": {},
   "outputs": [],
   "source": [
    "# Dependencies and Setup\n",
    "import pandas as pd\n",
    "from pathlib import Path\n",
    "\n",
    "# File to Load\n",
    "school_data_to_load = \"./Resources/schools_complete.csv\"\n",
    "student_data_to_load = \"./Resources/students_complete.csv\"\n",
    "\n",
    "# Read School and Student Data File and store into Pandas DataFrames\n",
    "school_data = pd.read_csv(school_data_to_load)\n",
    "student_data = pd.read_csv(student_data_to_load)\n",
    "# school_data\n",
    "# student_data"
   ]
  },
  {
   "cell_type": "code",
   "execution_count": 2,
   "metadata": {},
   "outputs": [],
   "source": [
    "school_data_complete = pd.merge(student_data, school_data, how=\"left\", on=[\"school_name\", \"school_name\"])\n",
    "# school_data_complete"
   ]
  },
  {
   "cell_type": "code",
   "execution_count": 3,
   "metadata": {},
   "outputs": [],
   "source": [
    "# rename school name column\n",
    "school_data_complete = school_data_complete.rename(columns={\"school_name\" : \"School Name\"})\n",
    "# school_data_complete"
   ]
  },
  {
   "cell_type": "markdown",
   "metadata": {},
   "source": [
    "## District Summary"
   ]
  },
  {
   "cell_type": "code",
   "execution_count": 5,
   "metadata": {},
   "outputs": [],
   "source": [
    "# Calculate the total number of unique schools\n",
    "school_count = len(school_data_complete[\"School Name\"].unique())\n",
    "# school_count"
   ]
  },
  {
   "cell_type": "code",
   "execution_count": 6,
   "metadata": {},
   "outputs": [],
   "source": [
    "# Calculate the total number of students\n",
    "student_count = len(school_data_complete[\"Student ID\"].unique() )\n",
    "# student_count"
   ]
  },
  {
   "cell_type": "code",
   "execution_count": 12,
   "metadata": {},
   "outputs": [],
   "source": [
    "# Calculate the total budget\n",
    "total_budget = school_data[\"budget\"].sum()\n",
    "# total_budget"
   ]
  },
  {
   "cell_type": "code",
   "execution_count": 14,
   "metadata": {},
   "outputs": [],
   "source": [
    "# Calculate the average (mean) math score\n",
    "average_math_score = school_data_complete[\"math_score\"].mean()\n",
    "# average_math_score"
   ]
  },
  {
   "cell_type": "code",
   "execution_count": 16,
   "metadata": {},
   "outputs": [],
   "source": [
    "# Calculate the average (mean) reading score\n",
    "average_reading_score = school_data_complete[\"reading_score\"].mean()\n",
    "# average_reading_score"
   ]
  },
  {
   "cell_type": "code",
   "execution_count": 18,
   "metadata": {},
   "outputs": [],
   "source": [
    "# Use the following to calculate the percentage of students who passed math (math scores greather than or equal to 70)\n",
    "passing_math_count = school_data_complete[(school_data_complete[\"math_score\"] >= 70)].count()[\"Student ID\"]\n",
    "# passing_math_count\n",
    "passing_math_percentage = passing_math_count / float(student_count) * 100\n",
    "# passing_math_percentage"
   ]
  },
  {
   "cell_type": "code",
   "execution_count": 20,
   "metadata": {},
   "outputs": [],
   "source": [
    "# Calculate the percentage of students who passed reading (hint: look at how the math percentage was calculated)\n",
    "passing_reading_count = school_data_complete[(school_data_complete[\"reading_score\"] >= 70)].count()[\"Student ID\"]\n",
    "# passing_reading_count\n",
    "passing_reading_percentage = passing_reading_count / float(student_count) * 100\n",
    "# passing_reading_percentage"
   ]
  },
  {
   "cell_type": "code",
   "execution_count": 22,
   "metadata": {},
   "outputs": [],
   "source": [
    "# Use the following to calculate the percentage of students that passed math and reading\n",
    "passing_math_reading_count = school_data_complete[\n",
    "    (school_data_complete[\"math_score\"] >= 70) & (school_data_complete[\"reading_score\"] >= 70)\n",
    "].count()[\"student_name\"]\n",
    "# passing_math_reading_count\n",
    "overall_passing_rate = passing_math_reading_count /  float(student_count) * 100\n",
    "# overall_passing_rate"
   ]
  },
  {
   "cell_type": "code",
   "execution_count": 24,
   "metadata": {},
   "outputs": [],
   "source": [
    "# Create a high-level snapshot of the district's key metrics in a DataFrame\n",
    "district_summary = pd.DataFrame({\"Total Schools\" : [school_count],\n",
    "                                 \"Total Students\" : [student_count],\n",
    "                                 \"Total Budget\" : [total_budget],\n",
    "                                 \"Average Math Score\" : [average_math_score],\n",
    "                                 \"Average Reading Score\" : [average_reading_score],\n",
    "                                 \"% Passing Math\" : [passing_math_percentage],\n",
    "                                 \"% Passing Reading\" : [passing_reading_percentage],\n",
    "                                 \"% Overall Passing\" : [overall_passing_rate] \n",
    "                                })"
   ]
  },
  {
   "cell_type": "code",
   "execution_count": 26,
   "metadata": {},
   "outputs": [],
   "source": [
    "# Formatting\n",
    "district_summary[\"Total Students\"] = district_summary[\"Total Students\"].map(\"{:,}\".format)\n",
    "district_summary[\"Total Budget\"] = district_summary[\"Total Budget\"].map(\"${:,.0f}\".format)\n",
    "district_summary[\"Average Math Score\"] = district_summary[\"Average Math Score\"].map(\"{:.2f}\".format)\n",
    "district_summary[\"Average Reading Score\"] = district_summary[\"Average Reading Score\"].map(\"{:.2f}\".format)\n",
    "district_summary[\"% Passing Math\"] = district_summary[\"% Passing Math\"].map(\"{:.2f}%\".format)\n",
    "district_summary[\"% Passing Reading\"] = district_summary[\"% Passing Reading\"].map(\"{:.2f}%\".format)\n",
    "district_summary[\"% Overall Passing\"] = district_summary[\"% Overall Passing\"].map(\"{:.2f}%\".format)\n",
    "\n",
    "# drop index column?\n",
    "# district_summary.drop(index, axis=1)"
   ]
  },
  {
   "cell_type": "code",
   "execution_count": 28,
   "metadata": {},
   "outputs": [
    {
     "data": {
      "text/html": [
       "<div>\n",
       "<style scoped>\n",
       "    .dataframe tbody tr th:only-of-type {\n",
       "        vertical-align: middle;\n",
       "    }\n",
       "\n",
       "    .dataframe tbody tr th {\n",
       "        vertical-align: top;\n",
       "    }\n",
       "\n",
       "    .dataframe thead th {\n",
       "        text-align: right;\n",
       "    }\n",
       "</style>\n",
       "<table border=\"1\" class=\"dataframe\">\n",
       "  <thead>\n",
       "    <tr style=\"text-align: right;\">\n",
       "      <th></th>\n",
       "      <th>Total Schools</th>\n",
       "      <th>Total Students</th>\n",
       "      <th>Total Budget</th>\n",
       "      <th>Average Math Score</th>\n",
       "      <th>Average Reading Score</th>\n",
       "      <th>% Passing Math</th>\n",
       "      <th>% Passing Reading</th>\n",
       "      <th>% Overall Passing</th>\n",
       "    </tr>\n",
       "  </thead>\n",
       "  <tbody>\n",
       "    <tr>\n",
       "      <th>0</th>\n",
       "      <td>15</td>\n",
       "      <td>39,170</td>\n",
       "      <td>$24,649,428</td>\n",
       "      <td>78.99</td>\n",
       "      <td>81.88</td>\n",
       "      <td>74.98%</td>\n",
       "      <td>85.81%</td>\n",
       "      <td>65.17%</td>\n",
       "    </tr>\n",
       "  </tbody>\n",
       "</table>\n",
       "</div>"
      ],
      "text/plain": [
       "   Total Schools Total Students Total Budget Average Math Score  \\\n",
       "0             15         39,170  $24,649,428              78.99   \n",
       "\n",
       "  Average Reading Score % Passing Math % Passing Reading % Overall Passing  \n",
       "0                 81.88         74.98%            85.81%            65.17%  "
      ]
     },
     "execution_count": 28,
     "metadata": {},
     "output_type": "execute_result"
    }
   ],
   "source": [
    "# Display the DataFrame\n",
    "district_summary"
   ]
  },
  {
   "cell_type": "code",
   "execution_count": 30,
   "metadata": {},
   "outputs": [
    {
     "name": "stdout",
     "output_type": "stream",
     "text": [
      "District Summary:\n",
      "|    |   Total Schools | Total Students   | Total Budget   |   Average Math Score |   Average Reading Score | % Passing Math   | % Passing Reading   | % Overall Passing   |\n",
      "|---:|----------------:|:-----------------|:---------------|---------------------:|------------------------:|:-----------------|:--------------------|:--------------------|\n",
      "|  0 |              15 | 39,170           | $24,649,428    |                78.99 |                   81.88 | 74.98%           | 85.81%              | 65.17%              |\n"
     ]
    }
   ],
   "source": [
    "# Print df to terminal when running code .py file in terminal\n",
    "print(\"District Summary:\")\n",
    "print(district_summary.to_markdown())"
   ]
  },
  {
   "cell_type": "markdown",
   "metadata": {},
   "source": [
    "## School Summary"
   ]
  },
  {
   "cell_type": "code",
   "execution_count": 33,
   "metadata": {},
   "outputs": [],
   "source": [
    "# rename school name column\n",
    "school_data = school_data.rename(columns={\"school_name\" : \"School Name\"})\n",
    "# school_data.head()"
   ]
  },
  {
   "cell_type": "code",
   "execution_count": 35,
   "metadata": {},
   "outputs": [],
   "source": [
    "# Use the code provided to select the type per school from school_data\n",
    "# school_data = school_data.rename(columns={\"school_name\":\"School Name\"})\n",
    "school_types = school_data.set_index([\"School Name\"])[\"type\"]\n",
    "# school_types"
   ]
  },
  {
   "cell_type": "code",
   "execution_count": 37,
   "metadata": {},
   "outputs": [],
   "source": [
    "# Calculate the total student count per school from school_data\n",
    "per_school_students = school_data_complete[\"School Name\"].value_counts()\n",
    "# per_school_students"
   ]
  },
  {
   "cell_type": "code",
   "execution_count": 39,
   "metadata": {},
   "outputs": [],
   "source": [
    "# Calculate the total school budget per school from school_data\n",
    "per_school_budget = school_data_complete.groupby([\"School Name\"]).mean(numeric_only=True)[\"budget\"]\n",
    "# per_school_budget "
   ]
  },
  {
   "cell_type": "code",
   "execution_count": 41,
   "metadata": {},
   "outputs": [],
   "source": [
    "# Calculate the per capita spending per school from school_data\n",
    "per_school_capita = per_school_budget / per_school_students\n",
    "# per_school_capita"
   ]
  },
  {
   "cell_type": "code",
   "execution_count": 43,
   "metadata": {},
   "outputs": [],
   "source": [
    "# Calculate the average math test scores per school from school_data_complete\n",
    "per_school_math = school_data_complete.groupby([\"School Name\"]).mean(numeric_only=True)[\"math_score\"]\n",
    "# per_school_math"
   ]
  },
  {
   "cell_type": "code",
   "execution_count": 45,
   "metadata": {},
   "outputs": [],
   "source": [
    "# Calculate the average reading test scores per school from school_data_complete\n",
    "per_school_reading = school_data_complete.groupby([\"School Name\"]).mean(numeric_only=True)[\"reading_score\"]\n",
    "# per_school_reading"
   ]
  },
  {
   "cell_type": "code",
   "execution_count": 47,
   "metadata": {},
   "outputs": [],
   "source": [
    "# Calculate the number of students per school with math scores of 70 or higher from school_data_complete\n",
    "students_passing_math = school_data_complete[school_data_complete[\"math_score\"] >= 70]\n",
    "# students_passing_math\n",
    "\n",
    "school_students_passing_math = students_passing_math.groupby([\"School Name\"]).size()\n",
    "# school_students_passing_math\n",
    "\n",
    "# Use the provided code to calculate the passing rates PASSING MATH\n",
    "per_school_passing_math = school_students_passing_math / per_school_students * 100\n",
    "# per_school_passing_math"
   ]
  },
  {
   "cell_type": "code",
   "execution_count": 49,
   "metadata": {},
   "outputs": [],
   "source": [
    "# Calculate the number of students per school with reading scores of 70 or higher from school_data_complete\n",
    "students_passing_reading = school_data_complete[school_data_complete[\"reading_score\"] >= 70]\n",
    "# students_passing_reading\n",
    "\n",
    "school_students_passing_reading = students_passing_reading.groupby([\"School Name\"]).size()\n",
    "# school_students_passing_reading\n",
    "\n",
    "# Use the provided code to calculate the passing rates PASSING READING\n",
    "per_school_passing_reading = school_students_passing_reading / per_school_students * 100\n",
    "# per_school_passing_reading"
   ]
  },
  {
   "cell_type": "code",
   "execution_count": 51,
   "metadata": {},
   "outputs": [],
   "source": [
    "# Use the provided code to calculate the number of students per school that passed both math and reading with scores of 70 or higher\n",
    "students_passing_math_and_reading = school_data_complete[\n",
    "    (school_data_complete[\"reading_score\"] >= 70) & (school_data_complete[\"math_score\"] >= 70)]\n",
    "# students_passing_math_and_reading\n",
    "\n",
    "school_students_passing_math_and_reading = students_passing_math_and_reading.groupby([\"School Name\"]).size()\n",
    "# school_students_passing_math_and_reading\n",
    "\n",
    "# Use the provided code to calculate the passing rates PASSING MATH & READING\n",
    "overall_passing_rate = school_students_passing_math_and_reading / per_school_students * 100\n",
    "# overall_passing_rate"
   ]
  },
  {
   "cell_type": "code",
   "execution_count": 53,
   "metadata": {},
   "outputs": [],
   "source": [
    "# Create a DataFrame called `per_school_summary` with columns for the calculations above.\n",
    "per_school_summary = pd.DataFrame({\"School Type\" : school_types ,\n",
    "                                   \"Total Students\" : per_school_students ,\n",
    "                                   \"Total School Budget\" : per_school_budget ,\n",
    "                                   \"Per Student Budget\" : per_school_capita , \n",
    "                                   \"Average Math Score\" : per_school_math ,\n",
    "                                   \"Average Reading Score\" : per_school_reading , \n",
    "                                   \"% Passing Math\" : per_school_passing_math ,\n",
    "                                   \"% Passing Reading\" : per_school_passing_reading ,\n",
    "                                   \"% Passing Overall\" : overall_passing_rate\n",
    "                                    })"
   ]
  },
  {
   "cell_type": "code",
   "execution_count": 55,
   "metadata": {},
   "outputs": [],
   "source": [
    "# Formatting\n",
    "per_school_summary[\"Total Students\"] = per_school_summary[\"Total Students\"].map(\"{:,.0f}\".format)\n",
    "per_school_summary[\"Total School Budget\"] = per_school_summary[\"Total School Budget\"].map(\"${:,.0f}\".format)\n",
    "per_school_summary[\"Per Student Budget\"] = per_school_summary[\"Per Student Budget\"].map(\"${:,.0f}\".format)\n",
    "per_school_summary[\"Average Math Score\"] = per_school_summary[\"Average Math Score\"].map(\"{:,.2f}\".format)\n",
    "per_school_summary[\"Average Reading Score\"] = per_school_summary[\"Average Reading Score\"].map(\"{:,.2f}\".format)\n",
    "per_school_summary[\"% Passing Math\"] = per_school_summary[\"% Passing Math\"].map(\"{:,.2f}\".format)\n",
    "per_school_summary[\"% Passing Reading\"] = per_school_summary[\"% Passing Reading\"].map(\"{:,.2f}\".format)\n",
    "per_school_summary[\"% Passing Overall\"] = per_school_summary[\"% Passing Overall\"].map(\"{:,.2f}\".format)\n",
    "\n",
    "# per_school_summary.index.name = None"
   ]
  },
  {
   "cell_type": "code",
   "execution_count": 57,
   "metadata": {},
   "outputs": [
    {
     "data": {
      "text/html": [
       "<div>\n",
       "<style scoped>\n",
       "    .dataframe tbody tr th:only-of-type {\n",
       "        vertical-align: middle;\n",
       "    }\n",
       "\n",
       "    .dataframe tbody tr th {\n",
       "        vertical-align: top;\n",
       "    }\n",
       "\n",
       "    .dataframe thead th {\n",
       "        text-align: right;\n",
       "    }\n",
       "</style>\n",
       "<table border=\"1\" class=\"dataframe\">\n",
       "  <thead>\n",
       "    <tr style=\"text-align: right;\">\n",
       "      <th></th>\n",
       "      <th>School Type</th>\n",
       "      <th>Total Students</th>\n",
       "      <th>Total School Budget</th>\n",
       "      <th>Per Student Budget</th>\n",
       "      <th>Average Math Score</th>\n",
       "      <th>Average Reading Score</th>\n",
       "      <th>% Passing Math</th>\n",
       "      <th>% Passing Reading</th>\n",
       "      <th>% Passing Overall</th>\n",
       "    </tr>\n",
       "    <tr>\n",
       "      <th>School Name</th>\n",
       "      <th></th>\n",
       "      <th></th>\n",
       "      <th></th>\n",
       "      <th></th>\n",
       "      <th></th>\n",
       "      <th></th>\n",
       "      <th></th>\n",
       "      <th></th>\n",
       "      <th></th>\n",
       "    </tr>\n",
       "  </thead>\n",
       "  <tbody>\n",
       "    <tr>\n",
       "      <th>Bailey High School</th>\n",
       "      <td>District</td>\n",
       "      <td>4,976</td>\n",
       "      <td>$3,124,928</td>\n",
       "      <td>$628</td>\n",
       "      <td>77.05</td>\n",
       "      <td>81.03</td>\n",
       "      <td>66.68</td>\n",
       "      <td>81.93</td>\n",
       "      <td>54.64</td>\n",
       "    </tr>\n",
       "    <tr>\n",
       "      <th>Cabrera High School</th>\n",
       "      <td>Charter</td>\n",
       "      <td>1,858</td>\n",
       "      <td>$1,081,356</td>\n",
       "      <td>$582</td>\n",
       "      <td>83.06</td>\n",
       "      <td>83.98</td>\n",
       "      <td>94.13</td>\n",
       "      <td>97.04</td>\n",
       "      <td>91.33</td>\n",
       "    </tr>\n",
       "    <tr>\n",
       "      <th>Figueroa High School</th>\n",
       "      <td>District</td>\n",
       "      <td>2,949</td>\n",
       "      <td>$1,884,411</td>\n",
       "      <td>$639</td>\n",
       "      <td>76.71</td>\n",
       "      <td>81.16</td>\n",
       "      <td>65.99</td>\n",
       "      <td>80.74</td>\n",
       "      <td>53.20</td>\n",
       "    </tr>\n",
       "    <tr>\n",
       "      <th>Ford High School</th>\n",
       "      <td>District</td>\n",
       "      <td>2,739</td>\n",
       "      <td>$1,763,916</td>\n",
       "      <td>$644</td>\n",
       "      <td>77.10</td>\n",
       "      <td>80.75</td>\n",
       "      <td>68.31</td>\n",
       "      <td>79.30</td>\n",
       "      <td>54.29</td>\n",
       "    </tr>\n",
       "    <tr>\n",
       "      <th>Griffin High School</th>\n",
       "      <td>Charter</td>\n",
       "      <td>1,468</td>\n",
       "      <td>$917,500</td>\n",
       "      <td>$625</td>\n",
       "      <td>83.35</td>\n",
       "      <td>83.82</td>\n",
       "      <td>93.39</td>\n",
       "      <td>97.14</td>\n",
       "      <td>90.60</td>\n",
       "    </tr>\n",
       "    <tr>\n",
       "      <th>Hernandez High School</th>\n",
       "      <td>District</td>\n",
       "      <td>4,635</td>\n",
       "      <td>$3,022,020</td>\n",
       "      <td>$652</td>\n",
       "      <td>77.29</td>\n",
       "      <td>80.93</td>\n",
       "      <td>66.75</td>\n",
       "      <td>80.86</td>\n",
       "      <td>53.53</td>\n",
       "    </tr>\n",
       "    <tr>\n",
       "      <th>Holden High School</th>\n",
       "      <td>Charter</td>\n",
       "      <td>427</td>\n",
       "      <td>$248,087</td>\n",
       "      <td>$581</td>\n",
       "      <td>83.80</td>\n",
       "      <td>83.81</td>\n",
       "      <td>92.51</td>\n",
       "      <td>96.25</td>\n",
       "      <td>89.23</td>\n",
       "    </tr>\n",
       "    <tr>\n",
       "      <th>Huang High School</th>\n",
       "      <td>District</td>\n",
       "      <td>2,917</td>\n",
       "      <td>$1,910,635</td>\n",
       "      <td>$655</td>\n",
       "      <td>76.63</td>\n",
       "      <td>81.18</td>\n",
       "      <td>65.68</td>\n",
       "      <td>81.32</td>\n",
       "      <td>53.51</td>\n",
       "    </tr>\n",
       "    <tr>\n",
       "      <th>Johnson High School</th>\n",
       "      <td>District</td>\n",
       "      <td>4,761</td>\n",
       "      <td>$3,094,650</td>\n",
       "      <td>$650</td>\n",
       "      <td>77.07</td>\n",
       "      <td>80.97</td>\n",
       "      <td>66.06</td>\n",
       "      <td>81.22</td>\n",
       "      <td>53.54</td>\n",
       "    </tr>\n",
       "    <tr>\n",
       "      <th>Pena High School</th>\n",
       "      <td>Charter</td>\n",
       "      <td>962</td>\n",
       "      <td>$585,858</td>\n",
       "      <td>$609</td>\n",
       "      <td>83.84</td>\n",
       "      <td>84.04</td>\n",
       "      <td>94.59</td>\n",
       "      <td>95.95</td>\n",
       "      <td>90.54</td>\n",
       "    </tr>\n",
       "    <tr>\n",
       "      <th>Rodriguez High School</th>\n",
       "      <td>District</td>\n",
       "      <td>3,999</td>\n",
       "      <td>$2,547,363</td>\n",
       "      <td>$637</td>\n",
       "      <td>76.84</td>\n",
       "      <td>80.74</td>\n",
       "      <td>66.37</td>\n",
       "      <td>80.22</td>\n",
       "      <td>52.99</td>\n",
       "    </tr>\n",
       "    <tr>\n",
       "      <th>Shelton High School</th>\n",
       "      <td>Charter</td>\n",
       "      <td>1,761</td>\n",
       "      <td>$1,056,600</td>\n",
       "      <td>$600</td>\n",
       "      <td>83.36</td>\n",
       "      <td>83.73</td>\n",
       "      <td>93.87</td>\n",
       "      <td>95.85</td>\n",
       "      <td>89.89</td>\n",
       "    </tr>\n",
       "    <tr>\n",
       "      <th>Thomas High School</th>\n",
       "      <td>Charter</td>\n",
       "      <td>1,635</td>\n",
       "      <td>$1,043,130</td>\n",
       "      <td>$638</td>\n",
       "      <td>83.42</td>\n",
       "      <td>83.85</td>\n",
       "      <td>93.27</td>\n",
       "      <td>97.31</td>\n",
       "      <td>90.95</td>\n",
       "    </tr>\n",
       "    <tr>\n",
       "      <th>Wilson High School</th>\n",
       "      <td>Charter</td>\n",
       "      <td>2,283</td>\n",
       "      <td>$1,319,574</td>\n",
       "      <td>$578</td>\n",
       "      <td>83.27</td>\n",
       "      <td>83.99</td>\n",
       "      <td>93.87</td>\n",
       "      <td>96.54</td>\n",
       "      <td>90.58</td>\n",
       "    </tr>\n",
       "    <tr>\n",
       "      <th>Wright High School</th>\n",
       "      <td>Charter</td>\n",
       "      <td>1,800</td>\n",
       "      <td>$1,049,400</td>\n",
       "      <td>$583</td>\n",
       "      <td>83.68</td>\n",
       "      <td>83.95</td>\n",
       "      <td>93.33</td>\n",
       "      <td>96.61</td>\n",
       "      <td>90.33</td>\n",
       "    </tr>\n",
       "  </tbody>\n",
       "</table>\n",
       "</div>"
      ],
      "text/plain": [
       "                      School Type Total Students Total School Budget  \\\n",
       "School Name                                                            \n",
       "Bailey High School       District          4,976          $3,124,928   \n",
       "Cabrera High School       Charter          1,858          $1,081,356   \n",
       "Figueroa High School     District          2,949          $1,884,411   \n",
       "Ford High School         District          2,739          $1,763,916   \n",
       "Griffin High School       Charter          1,468            $917,500   \n",
       "Hernandez High School    District          4,635          $3,022,020   \n",
       "Holden High School        Charter            427            $248,087   \n",
       "Huang High School        District          2,917          $1,910,635   \n",
       "Johnson High School      District          4,761          $3,094,650   \n",
       "Pena High School          Charter            962            $585,858   \n",
       "Rodriguez High School    District          3,999          $2,547,363   \n",
       "Shelton High School       Charter          1,761          $1,056,600   \n",
       "Thomas High School        Charter          1,635          $1,043,130   \n",
       "Wilson High School        Charter          2,283          $1,319,574   \n",
       "Wright High School        Charter          1,800          $1,049,400   \n",
       "\n",
       "                      Per Student Budget Average Math Score  \\\n",
       "School Name                                                   \n",
       "Bailey High School                  $628              77.05   \n",
       "Cabrera High School                 $582              83.06   \n",
       "Figueroa High School                $639              76.71   \n",
       "Ford High School                    $644              77.10   \n",
       "Griffin High School                 $625              83.35   \n",
       "Hernandez High School               $652              77.29   \n",
       "Holden High School                  $581              83.80   \n",
       "Huang High School                   $655              76.63   \n",
       "Johnson High School                 $650              77.07   \n",
       "Pena High School                    $609              83.84   \n",
       "Rodriguez High School               $637              76.84   \n",
       "Shelton High School                 $600              83.36   \n",
       "Thomas High School                  $638              83.42   \n",
       "Wilson High School                  $578              83.27   \n",
       "Wright High School                  $583              83.68   \n",
       "\n",
       "                      Average Reading Score % Passing Math % Passing Reading  \\\n",
       "School Name                                                                    \n",
       "Bailey High School                    81.03          66.68             81.93   \n",
       "Cabrera High School                   83.98          94.13             97.04   \n",
       "Figueroa High School                  81.16          65.99             80.74   \n",
       "Ford High School                      80.75          68.31             79.30   \n",
       "Griffin High School                   83.82          93.39             97.14   \n",
       "Hernandez High School                 80.93          66.75             80.86   \n",
       "Holden High School                    83.81          92.51             96.25   \n",
       "Huang High School                     81.18          65.68             81.32   \n",
       "Johnson High School                   80.97          66.06             81.22   \n",
       "Pena High School                      84.04          94.59             95.95   \n",
       "Rodriguez High School                 80.74          66.37             80.22   \n",
       "Shelton High School                   83.73          93.87             95.85   \n",
       "Thomas High School                    83.85          93.27             97.31   \n",
       "Wilson High School                    83.99          93.87             96.54   \n",
       "Wright High School                    83.95          93.33             96.61   \n",
       "\n",
       "                      % Passing Overall  \n",
       "School Name                              \n",
       "Bailey High School                54.64  \n",
       "Cabrera High School               91.33  \n",
       "Figueroa High School              53.20  \n",
       "Ford High School                  54.29  \n",
       "Griffin High School               90.60  \n",
       "Hernandez High School             53.53  \n",
       "Holden High School                89.23  \n",
       "Huang High School                 53.51  \n",
       "Johnson High School               53.54  \n",
       "Pena High School                  90.54  \n",
       "Rodriguez High School             52.99  \n",
       "Shelton High School               89.89  \n",
       "Thomas High School                90.95  \n",
       "Wilson High School                90.58  \n",
       "Wright High School                90.33  "
      ]
     },
     "execution_count": 57,
     "metadata": {},
     "output_type": "execute_result"
    }
   ],
   "source": [
    "# Display the DataFrame\n",
    "per_school_summary"
   ]
  },
  {
   "cell_type": "code",
   "execution_count": 59,
   "metadata": {},
   "outputs": [
    {
     "name": "stdout",
     "output_type": "stream",
     "text": [
      "-\n",
      "School Summary:\n",
      "| School Name           | School Type   | Total Students   | Total School Budget   | Per Student Budget   |   Average Math Score |   Average Reading Score |   % Passing Math |   % Passing Reading |   % Passing Overall |\n",
      "|:----------------------|:--------------|:-----------------|:----------------------|:---------------------|---------------------:|------------------------:|-----------------:|--------------------:|--------------------:|\n",
      "| Bailey High School    | District      | 4,976            | $3,124,928            | $628                 |                77.05 |                   81.03 |            66.68 |               81.93 |               54.64 |\n",
      "| Cabrera High School   | Charter       | 1,858            | $1,081,356            | $582                 |                83.06 |                   83.98 |            94.13 |               97.04 |               91.33 |\n",
      "| Figueroa High School  | District      | 2,949            | $1,884,411            | $639                 |                76.71 |                   81.16 |            65.99 |               80.74 |               53.2  |\n",
      "| Ford High School      | District      | 2,739            | $1,763,916            | $644                 |                77.1  |                   80.75 |            68.31 |               79.3  |               54.29 |\n",
      "| Griffin High School   | Charter       | 1,468            | $917,500              | $625                 |                83.35 |                   83.82 |            93.39 |               97.14 |               90.6  |\n",
      "| Hernandez High School | District      | 4,635            | $3,022,020            | $652                 |                77.29 |                   80.93 |            66.75 |               80.86 |               53.53 |\n",
      "| Holden High School    | Charter       | 427              | $248,087              | $581                 |                83.8  |                   83.81 |            92.51 |               96.25 |               89.23 |\n",
      "| Huang High School     | District      | 2,917            | $1,910,635            | $655                 |                76.63 |                   81.18 |            65.68 |               81.32 |               53.51 |\n",
      "| Johnson High School   | District      | 4,761            | $3,094,650            | $650                 |                77.07 |                   80.97 |            66.06 |               81.22 |               53.54 |\n",
      "| Pena High School      | Charter       | 962              | $585,858              | $609                 |                83.84 |                   84.04 |            94.59 |               95.95 |               90.54 |\n",
      "| Rodriguez High School | District      | 3,999            | $2,547,363            | $637                 |                76.84 |                   80.74 |            66.37 |               80.22 |               52.99 |\n",
      "| Shelton High School   | Charter       | 1,761            | $1,056,600            | $600                 |                83.36 |                   83.73 |            93.87 |               95.85 |               89.89 |\n",
      "| Thomas High School    | Charter       | 1,635            | $1,043,130            | $638                 |                83.42 |                   83.85 |            93.27 |               97.31 |               90.95 |\n",
      "| Wilson High School    | Charter       | 2,283            | $1,319,574            | $578                 |                83.27 |                   83.99 |            93.87 |               96.54 |               90.58 |\n",
      "| Wright High School    | Charter       | 1,800            | $1,049,400            | $583                 |                83.68 |                   83.95 |            93.33 |               96.61 |               90.33 |\n"
     ]
    }
   ],
   "source": [
    "# Print df to terminal when running code .py file in terminal\n",
    "print(\"-\")\n",
    "print(\"School Summary:\")\n",
    "print(per_school_summary.to_markdown())"
   ]
  },
  {
   "cell_type": "markdown",
   "metadata": {},
   "source": [
    "## Highest-Performing Schools (by % Overall Passing)"
   ]
  },
  {
   "cell_type": "code",
   "execution_count": 62,
   "metadata": {
    "scrolled": true
   },
   "outputs": [
    {
     "data": {
      "text/html": [
       "<div>\n",
       "<style scoped>\n",
       "    .dataframe tbody tr th:only-of-type {\n",
       "        vertical-align: middle;\n",
       "    }\n",
       "\n",
       "    .dataframe tbody tr th {\n",
       "        vertical-align: top;\n",
       "    }\n",
       "\n",
       "    .dataframe thead th {\n",
       "        text-align: right;\n",
       "    }\n",
       "</style>\n",
       "<table border=\"1\" class=\"dataframe\">\n",
       "  <thead>\n",
       "    <tr style=\"text-align: right;\">\n",
       "      <th></th>\n",
       "      <th>School Type</th>\n",
       "      <th>Total Students</th>\n",
       "      <th>Total School Budget</th>\n",
       "      <th>Per Student Budget</th>\n",
       "      <th>Average Math Score</th>\n",
       "      <th>Average Reading Score</th>\n",
       "      <th>% Passing Math</th>\n",
       "      <th>% Passing Reading</th>\n",
       "      <th>% Passing Overall</th>\n",
       "    </tr>\n",
       "    <tr>\n",
       "      <th>School Name</th>\n",
       "      <th></th>\n",
       "      <th></th>\n",
       "      <th></th>\n",
       "      <th></th>\n",
       "      <th></th>\n",
       "      <th></th>\n",
       "      <th></th>\n",
       "      <th></th>\n",
       "      <th></th>\n",
       "    </tr>\n",
       "  </thead>\n",
       "  <tbody>\n",
       "    <tr>\n",
       "      <th>Cabrera High School</th>\n",
       "      <td>Charter</td>\n",
       "      <td>1,858</td>\n",
       "      <td>$1,081,356</td>\n",
       "      <td>$582</td>\n",
       "      <td>83.06</td>\n",
       "      <td>83.98</td>\n",
       "      <td>94.13</td>\n",
       "      <td>97.04</td>\n",
       "      <td>91.33</td>\n",
       "    </tr>\n",
       "    <tr>\n",
       "      <th>Thomas High School</th>\n",
       "      <td>Charter</td>\n",
       "      <td>1,635</td>\n",
       "      <td>$1,043,130</td>\n",
       "      <td>$638</td>\n",
       "      <td>83.42</td>\n",
       "      <td>83.85</td>\n",
       "      <td>93.27</td>\n",
       "      <td>97.31</td>\n",
       "      <td>90.95</td>\n",
       "    </tr>\n",
       "    <tr>\n",
       "      <th>Griffin High School</th>\n",
       "      <td>Charter</td>\n",
       "      <td>1,468</td>\n",
       "      <td>$917,500</td>\n",
       "      <td>$625</td>\n",
       "      <td>83.35</td>\n",
       "      <td>83.82</td>\n",
       "      <td>93.39</td>\n",
       "      <td>97.14</td>\n",
       "      <td>90.60</td>\n",
       "    </tr>\n",
       "    <tr>\n",
       "      <th>Wilson High School</th>\n",
       "      <td>Charter</td>\n",
       "      <td>2,283</td>\n",
       "      <td>$1,319,574</td>\n",
       "      <td>$578</td>\n",
       "      <td>83.27</td>\n",
       "      <td>83.99</td>\n",
       "      <td>93.87</td>\n",
       "      <td>96.54</td>\n",
       "      <td>90.58</td>\n",
       "    </tr>\n",
       "    <tr>\n",
       "      <th>Pena High School</th>\n",
       "      <td>Charter</td>\n",
       "      <td>962</td>\n",
       "      <td>$585,858</td>\n",
       "      <td>$609</td>\n",
       "      <td>83.84</td>\n",
       "      <td>84.04</td>\n",
       "      <td>94.59</td>\n",
       "      <td>95.95</td>\n",
       "      <td>90.54</td>\n",
       "    </tr>\n",
       "  </tbody>\n",
       "</table>\n",
       "</div>"
      ],
      "text/plain": [
       "                    School Type Total Students Total School Budget  \\\n",
       "School Name                                                          \n",
       "Cabrera High School     Charter          1,858          $1,081,356   \n",
       "Thomas High School      Charter          1,635          $1,043,130   \n",
       "Griffin High School     Charter          1,468            $917,500   \n",
       "Wilson High School      Charter          2,283          $1,319,574   \n",
       "Pena High School        Charter            962            $585,858   \n",
       "\n",
       "                    Per Student Budget Average Math Score  \\\n",
       "School Name                                                 \n",
       "Cabrera High School               $582              83.06   \n",
       "Thomas High School                $638              83.42   \n",
       "Griffin High School               $625              83.35   \n",
       "Wilson High School                $578              83.27   \n",
       "Pena High School                  $609              83.84   \n",
       "\n",
       "                    Average Reading Score % Passing Math % Passing Reading  \\\n",
       "School Name                                                                  \n",
       "Cabrera High School                 83.98          94.13             97.04   \n",
       "Thomas High School                  83.85          93.27             97.31   \n",
       "Griffin High School                 83.82          93.39             97.14   \n",
       "Wilson High School                  83.99          93.87             96.54   \n",
       "Pena High School                    84.04          94.59             95.95   \n",
       "\n",
       "                    % Passing Overall  \n",
       "School Name                            \n",
       "Cabrera High School             91.33  \n",
       "Thomas High School              90.95  \n",
       "Griffin High School             90.60  \n",
       "Wilson High School              90.58  \n",
       "Pena High School                90.54  "
      ]
     },
     "execution_count": 62,
     "metadata": {},
     "output_type": "execute_result"
    }
   ],
   "source": [
    "# Sort the schools by `% Overall Passing` in descending order and display the top 5 rows.\n",
    "top_schools = per_school_summary.sort_values([\"% Passing Overall\"], ascending=False)\n",
    "top_schools.head(5)"
   ]
  },
  {
   "cell_type": "code",
   "execution_count": 64,
   "metadata": {},
   "outputs": [
    {
     "name": "stdout",
     "output_type": "stream",
     "text": [
      "-\n",
      "Top 5 Performing Schools by % Overall Passing:\n",
      "| School Name         | School Type   | Total Students   | Total School Budget   | Per Student Budget   |   Average Math Score |   Average Reading Score |   % Passing Math |   % Passing Reading |   % Passing Overall |\n",
      "|:--------------------|:--------------|:-----------------|:----------------------|:---------------------|---------------------:|------------------------:|-----------------:|--------------------:|--------------------:|\n",
      "| Cabrera High School | Charter       | 1,858            | $1,081,356            | $582                 |                83.06 |                   83.98 |            94.13 |               97.04 |               91.33 |\n",
      "| Thomas High School  | Charter       | 1,635            | $1,043,130            | $638                 |                83.42 |                   83.85 |            93.27 |               97.31 |               90.95 |\n",
      "| Griffin High School | Charter       | 1,468            | $917,500              | $625                 |                83.35 |                   83.82 |            93.39 |               97.14 |               90.6  |\n",
      "| Wilson High School  | Charter       | 2,283            | $1,319,574            | $578                 |                83.27 |                   83.99 |            93.87 |               96.54 |               90.58 |\n",
      "| Pena High School    | Charter       | 962              | $585,858              | $609                 |                83.84 |                   84.04 |            94.59 |               95.95 |               90.54 |\n"
     ]
    }
   ],
   "source": [
    "# Print df to terminal when running code .py file in terminal\n",
    "print(\"-\")\n",
    "print(\"Top 5 Performing Schools by % Overall Passing:\")\n",
    "print(top_schools.head(5).to_markdown())"
   ]
  },
  {
   "cell_type": "markdown",
   "metadata": {},
   "source": [
    "## Bottom Performing Schools (By % Overall Passing)"
   ]
  },
  {
   "cell_type": "code",
   "execution_count": 67,
   "metadata": {},
   "outputs": [
    {
     "data": {
      "text/html": [
       "<div>\n",
       "<style scoped>\n",
       "    .dataframe tbody tr th:only-of-type {\n",
       "        vertical-align: middle;\n",
       "    }\n",
       "\n",
       "    .dataframe tbody tr th {\n",
       "        vertical-align: top;\n",
       "    }\n",
       "\n",
       "    .dataframe thead th {\n",
       "        text-align: right;\n",
       "    }\n",
       "</style>\n",
       "<table border=\"1\" class=\"dataframe\">\n",
       "  <thead>\n",
       "    <tr style=\"text-align: right;\">\n",
       "      <th></th>\n",
       "      <th>School Type</th>\n",
       "      <th>Total Students</th>\n",
       "      <th>Total School Budget</th>\n",
       "      <th>Per Student Budget</th>\n",
       "      <th>Average Math Score</th>\n",
       "      <th>Average Reading Score</th>\n",
       "      <th>% Passing Math</th>\n",
       "      <th>% Passing Reading</th>\n",
       "      <th>% Passing Overall</th>\n",
       "    </tr>\n",
       "    <tr>\n",
       "      <th>School Name</th>\n",
       "      <th></th>\n",
       "      <th></th>\n",
       "      <th></th>\n",
       "      <th></th>\n",
       "      <th></th>\n",
       "      <th></th>\n",
       "      <th></th>\n",
       "      <th></th>\n",
       "      <th></th>\n",
       "    </tr>\n",
       "  </thead>\n",
       "  <tbody>\n",
       "    <tr>\n",
       "      <th>Rodriguez High School</th>\n",
       "      <td>District</td>\n",
       "      <td>3,999</td>\n",
       "      <td>$2,547,363</td>\n",
       "      <td>$637</td>\n",
       "      <td>76.84</td>\n",
       "      <td>80.74</td>\n",
       "      <td>66.37</td>\n",
       "      <td>80.22</td>\n",
       "      <td>52.99</td>\n",
       "    </tr>\n",
       "    <tr>\n",
       "      <th>Figueroa High School</th>\n",
       "      <td>District</td>\n",
       "      <td>2,949</td>\n",
       "      <td>$1,884,411</td>\n",
       "      <td>$639</td>\n",
       "      <td>76.71</td>\n",
       "      <td>81.16</td>\n",
       "      <td>65.99</td>\n",
       "      <td>80.74</td>\n",
       "      <td>53.20</td>\n",
       "    </tr>\n",
       "    <tr>\n",
       "      <th>Huang High School</th>\n",
       "      <td>District</td>\n",
       "      <td>2,917</td>\n",
       "      <td>$1,910,635</td>\n",
       "      <td>$655</td>\n",
       "      <td>76.63</td>\n",
       "      <td>81.18</td>\n",
       "      <td>65.68</td>\n",
       "      <td>81.32</td>\n",
       "      <td>53.51</td>\n",
       "    </tr>\n",
       "    <tr>\n",
       "      <th>Hernandez High School</th>\n",
       "      <td>District</td>\n",
       "      <td>4,635</td>\n",
       "      <td>$3,022,020</td>\n",
       "      <td>$652</td>\n",
       "      <td>77.29</td>\n",
       "      <td>80.93</td>\n",
       "      <td>66.75</td>\n",
       "      <td>80.86</td>\n",
       "      <td>53.53</td>\n",
       "    </tr>\n",
       "    <tr>\n",
       "      <th>Johnson High School</th>\n",
       "      <td>District</td>\n",
       "      <td>4,761</td>\n",
       "      <td>$3,094,650</td>\n",
       "      <td>$650</td>\n",
       "      <td>77.07</td>\n",
       "      <td>80.97</td>\n",
       "      <td>66.06</td>\n",
       "      <td>81.22</td>\n",
       "      <td>53.54</td>\n",
       "    </tr>\n",
       "  </tbody>\n",
       "</table>\n",
       "</div>"
      ],
      "text/plain": [
       "                      School Type Total Students Total School Budget  \\\n",
       "School Name                                                            \n",
       "Rodriguez High School    District          3,999          $2,547,363   \n",
       "Figueroa High School     District          2,949          $1,884,411   \n",
       "Huang High School        District          2,917          $1,910,635   \n",
       "Hernandez High School    District          4,635          $3,022,020   \n",
       "Johnson High School      District          4,761          $3,094,650   \n",
       "\n",
       "                      Per Student Budget Average Math Score  \\\n",
       "School Name                                                   \n",
       "Rodriguez High School               $637              76.84   \n",
       "Figueroa High School                $639              76.71   \n",
       "Huang High School                   $655              76.63   \n",
       "Hernandez High School               $652              77.29   \n",
       "Johnson High School                 $650              77.07   \n",
       "\n",
       "                      Average Reading Score % Passing Math % Passing Reading  \\\n",
       "School Name                                                                    \n",
       "Rodriguez High School                 80.74          66.37             80.22   \n",
       "Figueroa High School                  81.16          65.99             80.74   \n",
       "Huang High School                     81.18          65.68             81.32   \n",
       "Hernandez High School                 80.93          66.75             80.86   \n",
       "Johnson High School                   80.97          66.06             81.22   \n",
       "\n",
       "                      % Passing Overall  \n",
       "School Name                              \n",
       "Rodriguez High School             52.99  \n",
       "Figueroa High School              53.20  \n",
       "Huang High School                 53.51  \n",
       "Hernandez High School             53.53  \n",
       "Johnson High School               53.54  "
      ]
     },
     "execution_count": 67,
     "metadata": {},
     "output_type": "execute_result"
    }
   ],
   "source": [
    "# Sort the schools by `% Overall Passing` in ascending order and display the top 5 rows.\n",
    "bottom_schools = per_school_summary.sort_values([\"% Passing Overall\"], ascending=True)\n",
    "bottom_schools.head(5)"
   ]
  },
  {
   "cell_type": "code",
   "execution_count": 69,
   "metadata": {},
   "outputs": [
    {
     "name": "stdout",
     "output_type": "stream",
     "text": [
      "-\n",
      "Bottom 5 Performing Schools by % Overall Passing:\n",
      "| School Name           | School Type   | Total Students   | Total School Budget   | Per Student Budget   |   Average Math Score |   Average Reading Score |   % Passing Math |   % Passing Reading |   % Passing Overall |\n",
      "|:----------------------|:--------------|:-----------------|:----------------------|:---------------------|---------------------:|------------------------:|-----------------:|--------------------:|--------------------:|\n",
      "| Rodriguez High School | District      | 3,999            | $2,547,363            | $637                 |                76.84 |                   80.74 |            66.37 |               80.22 |               52.99 |\n",
      "| Figueroa High School  | District      | 2,949            | $1,884,411            | $639                 |                76.71 |                   81.16 |            65.99 |               80.74 |               53.2  |\n",
      "| Huang High School     | District      | 2,917            | $1,910,635            | $655                 |                76.63 |                   81.18 |            65.68 |               81.32 |               53.51 |\n",
      "| Hernandez High School | District      | 4,635            | $3,022,020            | $652                 |                77.29 |                   80.93 |            66.75 |               80.86 |               53.53 |\n",
      "| Johnson High School   | District      | 4,761            | $3,094,650            | $650                 |                77.07 |                   80.97 |            66.06 |               81.22 |               53.54 |\n"
     ]
    }
   ],
   "source": [
    "# Print df to terminal when running code .py file in terminal\n",
    "print(\"-\")\n",
    "print(\"Bottom 5 Performing Schools by % Overall Passing:\")\n",
    "print(bottom_schools.head(5).to_markdown())"
   ]
  },
  {
   "cell_type": "markdown",
   "metadata": {},
   "source": [
    "## Math Scores by Grade"
   ]
  },
  {
   "cell_type": "code",
   "execution_count": 72,
   "metadata": {},
   "outputs": [],
   "source": [
    "# Use the code provided to separate the data by grade\n",
    "ninth_graders = school_data_complete[(school_data_complete[\"grade\"] == \"9th\")]\n",
    "tenth_graders = school_data_complete[(school_data_complete[\"grade\"] == \"10th\")]\n",
    "eleventh_graders = school_data_complete[(school_data_complete[\"grade\"] == \"11th\")]\n",
    "twelfth_graders = school_data_complete[(school_data_complete[\"grade\"] == \"12th\")]\n",
    "# twelfth_graders"
   ]
  },
  {
   "cell_type": "code",
   "execution_count": 74,
   "metadata": {},
   "outputs": [],
   "source": [
    "# Group by `school_name` and take the mean of the `math_score` column for each.\n",
    "ninth_grade_math_scores = ninth_graders.groupby([\"School Name\"]).mean(numeric_only=True)[\"math_score\"]\n",
    "tenth_grade_math_scores = tenth_graders.groupby([\"School Name\"]).mean(numeric_only=True)[\"math_score\"]\n",
    "eleventh_grade_math_scores = eleventh_graders.groupby([\"School Name\"]).mean(numeric_only=True)[\"math_score\"]\n",
    "twelfth_grade_math_scores = twelfth_graders.groupby([\"School Name\"]).mean(numeric_only=True)[\"math_score\"]\n",
    "# twelfth_grade_math_scores"
   ]
  },
  {
   "cell_type": "code",
   "execution_count": 76,
   "metadata": {},
   "outputs": [],
   "source": [
    "# Combine each of the scores above into single DataFrame called `math_scores_by_grade`\n",
    "math_scores_by_grade = pd.DataFrame({\"9th Grade\" : ninth_grade_math_scores ,\n",
    "                                   \"10th Grade\" : tenth_grade_math_scores ,\n",
    "                                   \"11th Grade\" : eleventh_grade_math_scores ,\n",
    "                                   \"12th Grade\" : twelfth_grade_math_scores \n",
    "                                    })"
   ]
  },
  {
   "cell_type": "code",
   "execution_count": 78,
   "metadata": {},
   "outputs": [],
   "source": [
    "# Formatting\n",
    "math_scores_by_grade[\"9th Grade\"] = math_scores_by_grade[\"9th Grade\"].map(\"{:,.2f}\".format)\n",
    "math_scores_by_grade[\"10th Grade\"] = math_scores_by_grade[\"10th Grade\"].map(\"{:,.2f}\".format)\n",
    "math_scores_by_grade[\"11th Grade\"] = math_scores_by_grade[\"11th Grade\"].map(\"{:,.2f}\".format)\n",
    "math_scores_by_grade[\"12th Grade\"] = math_scores_by_grade[\"12th Grade\"].map(\"{:,.2f}\".format)\n",
    "\n",
    "# Minor data wrangling\n",
    "# math_scores_by_grade.index.name = None"
   ]
  },
  {
   "cell_type": "code",
   "execution_count": 80,
   "metadata": {},
   "outputs": [
    {
     "data": {
      "text/html": [
       "<div>\n",
       "<style scoped>\n",
       "    .dataframe tbody tr th:only-of-type {\n",
       "        vertical-align: middle;\n",
       "    }\n",
       "\n",
       "    .dataframe tbody tr th {\n",
       "        vertical-align: top;\n",
       "    }\n",
       "\n",
       "    .dataframe thead th {\n",
       "        text-align: right;\n",
       "    }\n",
       "</style>\n",
       "<table border=\"1\" class=\"dataframe\">\n",
       "  <thead>\n",
       "    <tr style=\"text-align: right;\">\n",
       "      <th></th>\n",
       "      <th>9th Grade</th>\n",
       "      <th>10th Grade</th>\n",
       "      <th>11th Grade</th>\n",
       "      <th>12th Grade</th>\n",
       "    </tr>\n",
       "    <tr>\n",
       "      <th>School Name</th>\n",
       "      <th></th>\n",
       "      <th></th>\n",
       "      <th></th>\n",
       "      <th></th>\n",
       "    </tr>\n",
       "  </thead>\n",
       "  <tbody>\n",
       "    <tr>\n",
       "      <th>Bailey High School</th>\n",
       "      <td>77.08</td>\n",
       "      <td>77.00</td>\n",
       "      <td>77.52</td>\n",
       "      <td>76.49</td>\n",
       "    </tr>\n",
       "    <tr>\n",
       "      <th>Cabrera High School</th>\n",
       "      <td>83.09</td>\n",
       "      <td>83.15</td>\n",
       "      <td>82.77</td>\n",
       "      <td>83.28</td>\n",
       "    </tr>\n",
       "    <tr>\n",
       "      <th>Figueroa High School</th>\n",
       "      <td>76.40</td>\n",
       "      <td>76.54</td>\n",
       "      <td>76.88</td>\n",
       "      <td>77.15</td>\n",
       "    </tr>\n",
       "    <tr>\n",
       "      <th>Ford High School</th>\n",
       "      <td>77.36</td>\n",
       "      <td>77.67</td>\n",
       "      <td>76.92</td>\n",
       "      <td>76.18</td>\n",
       "    </tr>\n",
       "    <tr>\n",
       "      <th>Griffin High School</th>\n",
       "      <td>82.04</td>\n",
       "      <td>84.23</td>\n",
       "      <td>83.84</td>\n",
       "      <td>83.36</td>\n",
       "    </tr>\n",
       "    <tr>\n",
       "      <th>Hernandez High School</th>\n",
       "      <td>77.44</td>\n",
       "      <td>77.34</td>\n",
       "      <td>77.14</td>\n",
       "      <td>77.19</td>\n",
       "    </tr>\n",
       "    <tr>\n",
       "      <th>Holden High School</th>\n",
       "      <td>83.79</td>\n",
       "      <td>83.43</td>\n",
       "      <td>85.00</td>\n",
       "      <td>82.86</td>\n",
       "    </tr>\n",
       "    <tr>\n",
       "      <th>Huang High School</th>\n",
       "      <td>77.03</td>\n",
       "      <td>75.91</td>\n",
       "      <td>76.45</td>\n",
       "      <td>77.23</td>\n",
       "    </tr>\n",
       "    <tr>\n",
       "      <th>Johnson High School</th>\n",
       "      <td>77.19</td>\n",
       "      <td>76.69</td>\n",
       "      <td>77.49</td>\n",
       "      <td>76.86</td>\n",
       "    </tr>\n",
       "    <tr>\n",
       "      <th>Pena High School</th>\n",
       "      <td>83.63</td>\n",
       "      <td>83.37</td>\n",
       "      <td>84.33</td>\n",
       "      <td>84.12</td>\n",
       "    </tr>\n",
       "    <tr>\n",
       "      <th>Rodriguez High School</th>\n",
       "      <td>76.86</td>\n",
       "      <td>76.61</td>\n",
       "      <td>76.40</td>\n",
       "      <td>77.69</td>\n",
       "    </tr>\n",
       "    <tr>\n",
       "      <th>Shelton High School</th>\n",
       "      <td>83.42</td>\n",
       "      <td>82.92</td>\n",
       "      <td>83.38</td>\n",
       "      <td>83.78</td>\n",
       "    </tr>\n",
       "    <tr>\n",
       "      <th>Thomas High School</th>\n",
       "      <td>83.59</td>\n",
       "      <td>83.09</td>\n",
       "      <td>83.50</td>\n",
       "      <td>83.50</td>\n",
       "    </tr>\n",
       "    <tr>\n",
       "      <th>Wilson High School</th>\n",
       "      <td>83.09</td>\n",
       "      <td>83.72</td>\n",
       "      <td>83.20</td>\n",
       "      <td>83.04</td>\n",
       "    </tr>\n",
       "    <tr>\n",
       "      <th>Wright High School</th>\n",
       "      <td>83.26</td>\n",
       "      <td>84.01</td>\n",
       "      <td>83.84</td>\n",
       "      <td>83.64</td>\n",
       "    </tr>\n",
       "  </tbody>\n",
       "</table>\n",
       "</div>"
      ],
      "text/plain": [
       "                      9th Grade 10th Grade 11th Grade 12th Grade\n",
       "School Name                                                     \n",
       "Bailey High School        77.08      77.00      77.52      76.49\n",
       "Cabrera High School       83.09      83.15      82.77      83.28\n",
       "Figueroa High School      76.40      76.54      76.88      77.15\n",
       "Ford High School          77.36      77.67      76.92      76.18\n",
       "Griffin High School       82.04      84.23      83.84      83.36\n",
       "Hernandez High School     77.44      77.34      77.14      77.19\n",
       "Holden High School        83.79      83.43      85.00      82.86\n",
       "Huang High School         77.03      75.91      76.45      77.23\n",
       "Johnson High School       77.19      76.69      77.49      76.86\n",
       "Pena High School          83.63      83.37      84.33      84.12\n",
       "Rodriguez High School     76.86      76.61      76.40      77.69\n",
       "Shelton High School       83.42      82.92      83.38      83.78\n",
       "Thomas High School        83.59      83.09      83.50      83.50\n",
       "Wilson High School        83.09      83.72      83.20      83.04\n",
       "Wright High School        83.26      84.01      83.84      83.64"
      ]
     },
     "execution_count": 80,
     "metadata": {},
     "output_type": "execute_result"
    }
   ],
   "source": [
    "# Display the DataFrame\n",
    "math_scores_by_grade"
   ]
  },
  {
   "cell_type": "code",
   "execution_count": 82,
   "metadata": {},
   "outputs": [
    {
     "name": "stdout",
     "output_type": "stream",
     "text": [
      "-\n",
      "Math Scores by Grade:\n",
      "| School Name           |   9th Grade |   10th Grade |   11th Grade |   12th Grade |\n",
      "|:----------------------|------------:|-------------:|-------------:|-------------:|\n",
      "| Bailey High School    |       77.08 |        77    |        77.52 |        76.49 |\n",
      "| Cabrera High School   |       83.09 |        83.15 |        82.77 |        83.28 |\n",
      "| Figueroa High School  |       76.4  |        76.54 |        76.88 |        77.15 |\n",
      "| Ford High School      |       77.36 |        77.67 |        76.92 |        76.18 |\n",
      "| Griffin High School   |       82.04 |        84.23 |        83.84 |        83.36 |\n",
      "| Hernandez High School |       77.44 |        77.34 |        77.14 |        77.19 |\n",
      "| Holden High School    |       83.79 |        83.43 |        85    |        82.86 |\n",
      "| Huang High School     |       77.03 |        75.91 |        76.45 |        77.23 |\n",
      "| Johnson High School   |       77.19 |        76.69 |        77.49 |        76.86 |\n",
      "| Pena High School      |       83.63 |        83.37 |        84.33 |        84.12 |\n",
      "| Rodriguez High School |       76.86 |        76.61 |        76.4  |        77.69 |\n",
      "| Shelton High School   |       83.42 |        82.92 |        83.38 |        83.78 |\n",
      "| Thomas High School    |       83.59 |        83.09 |        83.5  |        83.5  |\n",
      "| Wilson High School    |       83.09 |        83.72 |        83.2  |        83.04 |\n",
      "| Wright High School    |       83.26 |        84.01 |        83.84 |        83.64 |\n"
     ]
    }
   ],
   "source": [
    "# Print df to terminal when running code .py file in terminal\n",
    "print(\"-\")\n",
    "print(\"Math Scores by Grade:\")\n",
    "print(math_scores_by_grade.to_markdown())"
   ]
  },
  {
   "cell_type": "markdown",
   "metadata": {},
   "source": [
    "## Reading Score by Grade "
   ]
  },
  {
   "cell_type": "code",
   "execution_count": 85,
   "metadata": {},
   "outputs": [],
   "source": [
    "# Use the code provided to separate the data by grade\n",
    "ninth_graders = school_data_complete[(school_data_complete[\"grade\"] == \"9th\")]\n",
    "tenth_graders = school_data_complete[(school_data_complete[\"grade\"] == \"10th\")]\n",
    "eleventh_graders = school_data_complete[(school_data_complete[\"grade\"] == \"11th\")]\n",
    "twelfth_graders = school_data_complete[(school_data_complete[\"grade\"] == \"12th\")]"
   ]
  },
  {
   "cell_type": "code",
   "execution_count": 87,
   "metadata": {},
   "outputs": [],
   "source": [
    "# Group by `school_name` and take the mean of the the `reading_score` column for each.\n",
    "ninth_grade_reading_scores = ninth_graders.groupby([\"School Name\"]).mean(numeric_only=True)[\"reading_score\"]\n",
    "tenth_grade_reading_scores = tenth_graders.groupby([\"School Name\"]).mean(numeric_only=True)[\"reading_score\"]\n",
    "eleventh_grade_reading_scores = eleventh_graders.groupby([\"School Name\"]).mean(numeric_only=True)[\"reading_score\"]\n",
    "twelfth_grade_reading_scores = twelfth_graders.groupby([\"School Name\"]).mean(numeric_only=True)[\"reading_score\"]\n",
    "# ninth_grade_reading_scores"
   ]
  },
  {
   "cell_type": "code",
   "execution_count": 89,
   "metadata": {},
   "outputs": [],
   "source": [
    "# Combine each of the scores above into single DataFrame called `reading_scores_by_grade`\n",
    "reading_scores_by_grade = pd.DataFrame({\"9th Grade\" : ninth_grade_reading_scores ,\n",
    "                                   \"10th Grade\" : tenth_grade_reading_scores ,\n",
    "                                   \"11th Grade\" : eleventh_grade_reading_scores ,\n",
    "                                   \"12th Grade\" : twelfth_grade_reading_scores \n",
    "                                    })"
   ]
  },
  {
   "cell_type": "code",
   "execution_count": 91,
   "metadata": {},
   "outputs": [],
   "source": [
    "# Formatting\n",
    "reading_scores_by_grade[\"9th Grade\"] = reading_scores_by_grade[\"9th Grade\"].map(\"{:,.2f}\".format)\n",
    "reading_scores_by_grade[\"10th Grade\"] = reading_scores_by_grade[\"10th Grade\"].map(\"{:,.2f}\".format)\n",
    "reading_scores_by_grade[\"11th Grade\"] = reading_scores_by_grade[\"11th Grade\"].map(\"{:,.2f}\".format)\n",
    "reading_scores_by_grade[\"12th Grade\"] = reading_scores_by_grade[\"12th Grade\"].map(\"{:,.2f}\".format)\n",
    "\n",
    "# Minor data wrangling\n",
    "# reading_scores_by_grade = reading_scores_by_grade[[\"9th Grade\", \"10th Grade\", \"11th Grade\", \"12th Grade\"]]\n",
    "# reading_scores_by_grade.index.name = None"
   ]
  },
  {
   "cell_type": "code",
   "execution_count": 93,
   "metadata": {},
   "outputs": [
    {
     "data": {
      "text/html": [
       "<div>\n",
       "<style scoped>\n",
       "    .dataframe tbody tr th:only-of-type {\n",
       "        vertical-align: middle;\n",
       "    }\n",
       "\n",
       "    .dataframe tbody tr th {\n",
       "        vertical-align: top;\n",
       "    }\n",
       "\n",
       "    .dataframe thead th {\n",
       "        text-align: right;\n",
       "    }\n",
       "</style>\n",
       "<table border=\"1\" class=\"dataframe\">\n",
       "  <thead>\n",
       "    <tr style=\"text-align: right;\">\n",
       "      <th></th>\n",
       "      <th>9th Grade</th>\n",
       "      <th>10th Grade</th>\n",
       "      <th>11th Grade</th>\n",
       "      <th>12th Grade</th>\n",
       "    </tr>\n",
       "    <tr>\n",
       "      <th>School Name</th>\n",
       "      <th></th>\n",
       "      <th></th>\n",
       "      <th></th>\n",
       "      <th></th>\n",
       "    </tr>\n",
       "  </thead>\n",
       "  <tbody>\n",
       "    <tr>\n",
       "      <th>Bailey High School</th>\n",
       "      <td>81.30</td>\n",
       "      <td>80.91</td>\n",
       "      <td>80.95</td>\n",
       "      <td>80.91</td>\n",
       "    </tr>\n",
       "    <tr>\n",
       "      <th>Cabrera High School</th>\n",
       "      <td>83.68</td>\n",
       "      <td>84.25</td>\n",
       "      <td>83.79</td>\n",
       "      <td>84.29</td>\n",
       "    </tr>\n",
       "    <tr>\n",
       "      <th>Figueroa High School</th>\n",
       "      <td>81.20</td>\n",
       "      <td>81.41</td>\n",
       "      <td>80.64</td>\n",
       "      <td>81.38</td>\n",
       "    </tr>\n",
       "    <tr>\n",
       "      <th>Ford High School</th>\n",
       "      <td>80.63</td>\n",
       "      <td>81.26</td>\n",
       "      <td>80.40</td>\n",
       "      <td>80.66</td>\n",
       "    </tr>\n",
       "    <tr>\n",
       "      <th>Griffin High School</th>\n",
       "      <td>83.37</td>\n",
       "      <td>83.71</td>\n",
       "      <td>84.29</td>\n",
       "      <td>84.01</td>\n",
       "    </tr>\n",
       "    <tr>\n",
       "      <th>Hernandez High School</th>\n",
       "      <td>80.87</td>\n",
       "      <td>80.66</td>\n",
       "      <td>81.40</td>\n",
       "      <td>80.86</td>\n",
       "    </tr>\n",
       "    <tr>\n",
       "      <th>Holden High School</th>\n",
       "      <td>83.68</td>\n",
       "      <td>83.32</td>\n",
       "      <td>83.82</td>\n",
       "      <td>84.70</td>\n",
       "    </tr>\n",
       "    <tr>\n",
       "      <th>Huang High School</th>\n",
       "      <td>81.29</td>\n",
       "      <td>81.51</td>\n",
       "      <td>81.42</td>\n",
       "      <td>80.31</td>\n",
       "    </tr>\n",
       "    <tr>\n",
       "      <th>Johnson High School</th>\n",
       "      <td>81.26</td>\n",
       "      <td>80.77</td>\n",
       "      <td>80.62</td>\n",
       "      <td>81.23</td>\n",
       "    </tr>\n",
       "    <tr>\n",
       "      <th>Pena High School</th>\n",
       "      <td>83.81</td>\n",
       "      <td>83.61</td>\n",
       "      <td>84.34</td>\n",
       "      <td>84.59</td>\n",
       "    </tr>\n",
       "    <tr>\n",
       "      <th>Rodriguez High School</th>\n",
       "      <td>80.99</td>\n",
       "      <td>80.63</td>\n",
       "      <td>80.86</td>\n",
       "      <td>80.38</td>\n",
       "    </tr>\n",
       "    <tr>\n",
       "      <th>Shelton High School</th>\n",
       "      <td>84.12</td>\n",
       "      <td>83.44</td>\n",
       "      <td>84.37</td>\n",
       "      <td>82.78</td>\n",
       "    </tr>\n",
       "    <tr>\n",
       "      <th>Thomas High School</th>\n",
       "      <td>83.73</td>\n",
       "      <td>84.25</td>\n",
       "      <td>83.59</td>\n",
       "      <td>83.83</td>\n",
       "    </tr>\n",
       "    <tr>\n",
       "      <th>Wilson High School</th>\n",
       "      <td>83.94</td>\n",
       "      <td>84.02</td>\n",
       "      <td>83.76</td>\n",
       "      <td>84.32</td>\n",
       "    </tr>\n",
       "    <tr>\n",
       "      <th>Wright High School</th>\n",
       "      <td>83.83</td>\n",
       "      <td>83.81</td>\n",
       "      <td>84.16</td>\n",
       "      <td>84.07</td>\n",
       "    </tr>\n",
       "  </tbody>\n",
       "</table>\n",
       "</div>"
      ],
      "text/plain": [
       "                      9th Grade 10th Grade 11th Grade 12th Grade\n",
       "School Name                                                     \n",
       "Bailey High School        81.30      80.91      80.95      80.91\n",
       "Cabrera High School       83.68      84.25      83.79      84.29\n",
       "Figueroa High School      81.20      81.41      80.64      81.38\n",
       "Ford High School          80.63      81.26      80.40      80.66\n",
       "Griffin High School       83.37      83.71      84.29      84.01\n",
       "Hernandez High School     80.87      80.66      81.40      80.86\n",
       "Holden High School        83.68      83.32      83.82      84.70\n",
       "Huang High School         81.29      81.51      81.42      80.31\n",
       "Johnson High School       81.26      80.77      80.62      81.23\n",
       "Pena High School          83.81      83.61      84.34      84.59\n",
       "Rodriguez High School     80.99      80.63      80.86      80.38\n",
       "Shelton High School       84.12      83.44      84.37      82.78\n",
       "Thomas High School        83.73      84.25      83.59      83.83\n",
       "Wilson High School        83.94      84.02      83.76      84.32\n",
       "Wright High School        83.83      83.81      84.16      84.07"
      ]
     },
     "execution_count": 93,
     "metadata": {},
     "output_type": "execute_result"
    }
   ],
   "source": [
    "# Display the DataFrame\n",
    "reading_scores_by_grade"
   ]
  },
  {
   "cell_type": "code",
   "execution_count": 95,
   "metadata": {},
   "outputs": [
    {
     "name": "stdout",
     "output_type": "stream",
     "text": [
      "-\n",
      "Reading Scores by Grade:\n",
      "| School Name           |   9th Grade |   10th Grade |   11th Grade |   12th Grade |\n",
      "|:----------------------|------------:|-------------:|-------------:|-------------:|\n",
      "| Bailey High School    |       81.3  |        80.91 |        80.95 |        80.91 |\n",
      "| Cabrera High School   |       83.68 |        84.25 |        83.79 |        84.29 |\n",
      "| Figueroa High School  |       81.2  |        81.41 |        80.64 |        81.38 |\n",
      "| Ford High School      |       80.63 |        81.26 |        80.4  |        80.66 |\n",
      "| Griffin High School   |       83.37 |        83.71 |        84.29 |        84.01 |\n",
      "| Hernandez High School |       80.87 |        80.66 |        81.4  |        80.86 |\n",
      "| Holden High School    |       83.68 |        83.32 |        83.82 |        84.7  |\n",
      "| Huang High School     |       81.29 |        81.51 |        81.42 |        80.31 |\n",
      "| Johnson High School   |       81.26 |        80.77 |        80.62 |        81.23 |\n",
      "| Pena High School      |       83.81 |        83.61 |        84.34 |        84.59 |\n",
      "| Rodriguez High School |       80.99 |        80.63 |        80.86 |        80.38 |\n",
      "| Shelton High School   |       84.12 |        83.44 |        84.37 |        82.78 |\n",
      "| Thomas High School    |       83.73 |        84.25 |        83.59 |        83.83 |\n",
      "| Wilson High School    |       83.94 |        84.02 |        83.76 |        84.32 |\n",
      "| Wright High School    |       83.83 |        83.81 |        84.16 |        84.07 |\n"
     ]
    }
   ],
   "source": [
    "# Print df to terminal when running code .py file in terminal\n",
    "print(\"-\")\n",
    "print(\"Reading Scores by Grade:\")\n",
    "print(reading_scores_by_grade.to_markdown())"
   ]
  },
  {
   "cell_type": "markdown",
   "metadata": {},
   "source": [
    "## Scores by School Spending"
   ]
  },
  {
   "cell_type": "code",
   "execution_count": 98,
   "metadata": {},
   "outputs": [],
   "source": [
    "# Establish the bins\n",
    "spending_bins = [0, 585, 630, 645, 680]\n",
    "labels = [\"<$585\", \"$585-630\", \"$630-645\", \"$645-680\"]"
   ]
  },
  {
   "cell_type": "code",
   "execution_count": 100,
   "metadata": {},
   "outputs": [],
   "source": [
    "# Create a copy of the school summary since it has the \"Per Student Budget\"\n",
    "school_spending_df = per_school_summary.copy()\n",
    "# school_spending_df.dtypes"
   ]
  },
  {
   "cell_type": "code",
   "execution_count": 102,
   "metadata": {},
   "outputs": [],
   "source": [
    "# convert columns to float for further calculations\n",
    "school_spending_df = school_spending_df.astype({\"Average Math Score\": \"float\",\n",
    "                         \"Average Reading Score\": \"float\",\n",
    "                         \"% Passing Math\": \"float\", \n",
    "                         \"% Passing Reading\": \"float\",\n",
    "                         \"% Passing Overall\": \"float\" })\n",
    "# school_spending_df"
   ]
  },
  {
   "cell_type": "code",
   "execution_count": 104,
   "metadata": {},
   "outputs": [],
   "source": [
    "# pd.cut(per_school_capita, bins=spending_bins, labels=labels)"
   ]
  },
  {
   "cell_type": "code",
   "execution_count": 106,
   "metadata": {},
   "outputs": [],
   "source": [
    "# Use `pd.cut` to categorize spending based on the bins.\n",
    "school_spending_df[\"Spending Ranges (Per Student)\"] = pd.cut(per_school_capita, bins=spending_bins, labels=labels)\n",
    "# school_spending_df.head()"
   ]
  },
  {
   "cell_type": "code",
   "execution_count": 108,
   "metadata": {},
   "outputs": [],
   "source": [
    "# school_spending_df.dtypes"
   ]
  },
  {
   "cell_type": "code",
   "execution_count": 110,
   "metadata": {},
   "outputs": [],
   "source": [
    "#  Calculate averages for the desired columns.\n",
    "spending_math_scores = school_spending_df.groupby([\"Spending Ranges (Per Student)\"] , observed=False)[\"Average Math Score\"].mean(numeric_only=True)\n",
    "spending_reading_scores = school_spending_df.groupby([\"Spending Ranges (Per Student)\"] , observed=False)[\"Average Reading Score\"].mean(numeric_only=True)\n",
    "spending_passing_math = school_spending_df.groupby([\"Spending Ranges (Per Student)\"] , observed=False)[\"% Passing Math\"].mean(numeric_only=True)\n",
    "spending_passing_reading = school_spending_df.groupby([\"Spending Ranges (Per Student)\"] , observed=False)[\"% Passing Reading\"].mean(numeric_only=True)\n",
    "overall_passing_spending = school_spending_df.groupby([\"Spending Ranges (Per Student)\"] , observed=False)[\"% Passing Overall\"].mean(numeric_only=True)\n",
    "# spending_passing_reading"
   ]
  },
  {
   "cell_type": "code",
   "execution_count": 112,
   "metadata": {},
   "outputs": [],
   "source": [
    "# Assemble into DataFrame\n",
    "spending_summary = pd.DataFrame({\"Average Math Score\" : spending_math_scores ,\n",
    "                                   \"Average Reading Score\" : spending_reading_scores ,\n",
    "                                   \"% Passing Math\" : spending_passing_math ,\n",
    "                                   \"% Passing Reading\" : spending_passing_reading,\n",
    "                                   \"% Passing Overall\" : overall_passing_spending\n",
    "                                    })"
   ]
  },
  {
   "cell_type": "code",
   "execution_count": 114,
   "metadata": {},
   "outputs": [],
   "source": [
    "# Formatting\n",
    "spending_summary[\"Average Math Score\"] = spending_summary[\"Average Math Score\"].map(\"{:,.2f}\".format)\n",
    "spending_summary[\"Average Reading Score\"] = spending_summary[\"Average Reading Score\"].map(\"{:,.2f}\".format)\n",
    "spending_summary[\"% Passing Math\"] = spending_summary[\"% Passing Math\"].map(\"{:,.2f}%\".format)\n",
    "spending_summary[\"% Passing Reading\"] = spending_summary[\"% Passing Reading\"].map(\"{:,.2f}%\".format)\n",
    "spending_summary[\"% Passing Overall\"] = spending_summary[\"% Passing Overall\"].map(\"{:,.2f}%\".format)"
   ]
  },
  {
   "cell_type": "code",
   "execution_count": 116,
   "metadata": {},
   "outputs": [
    {
     "data": {
      "text/html": [
       "<div>\n",
       "<style scoped>\n",
       "    .dataframe tbody tr th:only-of-type {\n",
       "        vertical-align: middle;\n",
       "    }\n",
       "\n",
       "    .dataframe tbody tr th {\n",
       "        vertical-align: top;\n",
       "    }\n",
       "\n",
       "    .dataframe thead th {\n",
       "        text-align: right;\n",
       "    }\n",
       "</style>\n",
       "<table border=\"1\" class=\"dataframe\">\n",
       "  <thead>\n",
       "    <tr style=\"text-align: right;\">\n",
       "      <th></th>\n",
       "      <th>Average Math Score</th>\n",
       "      <th>Average Reading Score</th>\n",
       "      <th>% Passing Math</th>\n",
       "      <th>% Passing Reading</th>\n",
       "      <th>% Passing Overall</th>\n",
       "    </tr>\n",
       "    <tr>\n",
       "      <th>Spending Ranges (Per Student)</th>\n",
       "      <th></th>\n",
       "      <th></th>\n",
       "      <th></th>\n",
       "      <th></th>\n",
       "      <th></th>\n",
       "    </tr>\n",
       "  </thead>\n",
       "  <tbody>\n",
       "    <tr>\n",
       "      <th>&lt;$585</th>\n",
       "      <td>83.45</td>\n",
       "      <td>83.93</td>\n",
       "      <td>93.46%</td>\n",
       "      <td>96.61%</td>\n",
       "      <td>90.37%</td>\n",
       "    </tr>\n",
       "    <tr>\n",
       "      <th>$585-630</th>\n",
       "      <td>81.90</td>\n",
       "      <td>83.16</td>\n",
       "      <td>87.13%</td>\n",
       "      <td>92.72%</td>\n",
       "      <td>81.42%</td>\n",
       "    </tr>\n",
       "    <tr>\n",
       "      <th>$630-645</th>\n",
       "      <td>78.52</td>\n",
       "      <td>81.62</td>\n",
       "      <td>73.48%</td>\n",
       "      <td>84.39%</td>\n",
       "      <td>62.86%</td>\n",
       "    </tr>\n",
       "    <tr>\n",
       "      <th>$645-680</th>\n",
       "      <td>77.00</td>\n",
       "      <td>81.03</td>\n",
       "      <td>66.16%</td>\n",
       "      <td>81.13%</td>\n",
       "      <td>53.53%</td>\n",
       "    </tr>\n",
       "  </tbody>\n",
       "</table>\n",
       "</div>"
      ],
      "text/plain": [
       "                              Average Math Score Average Reading Score  \\\n",
       "Spending Ranges (Per Student)                                            \n",
       "<$585                                      83.45                 83.93   \n",
       "$585-630                                   81.90                 83.16   \n",
       "$630-645                                   78.52                 81.62   \n",
       "$645-680                                   77.00                 81.03   \n",
       "\n",
       "                              % Passing Math % Passing Reading  \\\n",
       "Spending Ranges (Per Student)                                    \n",
       "<$585                                 93.46%            96.61%   \n",
       "$585-630                              87.13%            92.72%   \n",
       "$630-645                              73.48%            84.39%   \n",
       "$645-680                              66.16%            81.13%   \n",
       "\n",
       "                              % Passing Overall  \n",
       "Spending Ranges (Per Student)                    \n",
       "<$585                                    90.37%  \n",
       "$585-630                                 81.42%  \n",
       "$630-645                                 62.86%  \n",
       "$645-680                                 53.53%  "
      ]
     },
     "execution_count": 116,
     "metadata": {},
     "output_type": "execute_result"
    }
   ],
   "source": [
    "# Display results\n",
    "spending_summary"
   ]
  },
  {
   "cell_type": "code",
   "execution_count": 118,
   "metadata": {},
   "outputs": [
    {
     "name": "stdout",
     "output_type": "stream",
     "text": [
      "-\n",
      "Scores by School Spending:\n",
      "| Spending Ranges (Per Student)   |   Average Math Score |   Average Reading Score | % Passing Math   | % Passing Reading   | % Passing Overall   |\n",
      "|:--------------------------------|---------------------:|------------------------:|:-----------------|:--------------------|:--------------------|\n",
      "| <$585                           |                83.45 |                   83.93 | 93.46%           | 96.61%              | 90.37%              |\n",
      "| $585-630                        |                81.9  |                   83.16 | 87.13%           | 92.72%              | 81.42%              |\n",
      "| $630-645                        |                78.52 |                   81.62 | 73.48%           | 84.39%              | 62.86%              |\n",
      "| $645-680                        |                77    |                   81.03 | 66.16%           | 81.13%              | 53.53%              |\n"
     ]
    }
   ],
   "source": [
    "# Print df to terminal when running code .py file in terminal\n",
    "print(\"-\")\n",
    "print(\"Scores by School Spending:\")\n",
    "print(spending_summary.to_markdown())"
   ]
  },
  {
   "cell_type": "markdown",
   "metadata": {},
   "source": [
    "## Scores by School Size"
   ]
  },
  {
   "cell_type": "code",
   "execution_count": 121,
   "metadata": {},
   "outputs": [],
   "source": [
    "# Establish the bins.\n",
    "size_bins = [0, 1000, 2000, 5000]\n",
    "labels = [\"Small (<1000)\", \"Medium (1000-2000)\", \"Large (2000-5000)\"]\n"
   ]
  },
  {
   "cell_type": "code",
   "execution_count": 123,
   "metadata": {},
   "outputs": [],
   "source": [
    "school_size_df = per_school_summary.copy()"
   ]
  },
  {
   "cell_type": "code",
   "execution_count": 125,
   "metadata": {},
   "outputs": [],
   "source": [
    "# pd.cut(per_school_students, bins=size_bins, labels=labels)"
   ]
  },
  {
   "cell_type": "code",
   "execution_count": 127,
   "metadata": {},
   "outputs": [],
   "source": [
    "# Categorize the spending based on the bins\n",
    "# Use `pd.cut` on the \"Total Students\" column of the `per_school_summary` DataFrame.\n",
    "\n",
    "school_size_df[\"School Size\"] = pd.cut(per_school_students, bins=size_bins, labels=labels)\n",
    "# school_size_df.head()\n"
   ]
  },
  {
   "cell_type": "code",
   "execution_count": 129,
   "metadata": {},
   "outputs": [],
   "source": [
    "# school_size_df.dtypes"
   ]
  },
  {
   "cell_type": "code",
   "execution_count": 131,
   "metadata": {},
   "outputs": [],
   "source": [
    "#reset columns to Float instead of object for further calculations\n",
    "school_size_df = school_size_df.astype({\"Average Math Score\": \"float\",\n",
    "                         \"Average Reading Score\": \"float\",\n",
    "                         \"% Passing Math\": \"float\", \n",
    "                         \"% Passing Reading\": \"float\",\n",
    "                         \"% Passing Overall\": \"float\" })\n",
    "# school_size_df.dtypes"
   ]
  },
  {
   "cell_type": "code",
   "execution_count": 133,
   "metadata": {},
   "outputs": [],
   "source": [
    "# Calculate averages for the desired columns.\n",
    "size_math_scores = school_size_df.groupby([\"School Size\"] , observed=False)[\"Average Math Score\"].mean(numeric_only=True)\n",
    "size_reading_scores = school_size_df.groupby([\"School Size\"] , observed=False)[\"Average Reading Score\"].mean(numeric_only=True)\n",
    "size_passing_math = school_size_df.groupby([\"School Size\"] , observed=False)[\"% Passing Math\"].mean(numeric_only=True)\n",
    "size_passing_reading = school_size_df.groupby([\"School Size\"] , observed=False)[\"% Passing Reading\"].mean(numeric_only=True)\n",
    "size_overall_passing = school_size_df.groupby([\"School Size\"] , observed=False)[\"% Passing Overall\"].mean(numeric_only=True)\n"
   ]
  },
  {
   "cell_type": "code",
   "execution_count": 135,
   "metadata": {
    "scrolled": true
   },
   "outputs": [],
   "source": [
    "# Create a DataFrame called `size_summary` that breaks down school performance based on school size (small, medium, or large).\n",
    "# Use the scores above to create a new DataFrame called `size_summary`\n",
    "size_summary = pd.DataFrame({\"Average Math Score\" : size_math_scores ,\n",
    "                                   \"Average Reading Score\" : size_reading_scores ,\n",
    "                                   \"% Passing Math\" : size_passing_math ,\n",
    "                                   \"% Passing Reading\" : size_passing_reading,\n",
    "                                   \"% Passing Overall\" : size_overall_passing\n",
    "                            })"
   ]
  },
  {
   "cell_type": "code",
   "execution_count": 137,
   "metadata": {},
   "outputs": [],
   "source": [
    "# Formatting\n",
    "size_summary[\"Average Math Score\"] = size_summary[\"Average Math Score\"].map(\"{:,.2f}\".format)\n",
    "size_summary[\"Average Reading Score\"] = size_summary[\"Average Reading Score\"].map(\"{:,.2f}\".format)\n",
    "size_summary[\"% Passing Math\"] = size_summary[\"% Passing Math\"].map(\"{:,.2f}%\".format)\n",
    "size_summary[\"% Passing Reading\"] = size_summary[\"% Passing Reading\"].map(\"{:,.2f}%\".format)\n",
    "size_summary[\"% Passing Overall\"] = size_summary[\"% Passing Overall\"].map(\"{:,.2f}%\".format)"
   ]
  },
  {
   "cell_type": "code",
   "execution_count": 139,
   "metadata": {},
   "outputs": [
    {
     "data": {
      "text/html": [
       "<div>\n",
       "<style scoped>\n",
       "    .dataframe tbody tr th:only-of-type {\n",
       "        vertical-align: middle;\n",
       "    }\n",
       "\n",
       "    .dataframe tbody tr th {\n",
       "        vertical-align: top;\n",
       "    }\n",
       "\n",
       "    .dataframe thead th {\n",
       "        text-align: right;\n",
       "    }\n",
       "</style>\n",
       "<table border=\"1\" class=\"dataframe\">\n",
       "  <thead>\n",
       "    <tr style=\"text-align: right;\">\n",
       "      <th></th>\n",
       "      <th>Average Math Score</th>\n",
       "      <th>Average Reading Score</th>\n",
       "      <th>% Passing Math</th>\n",
       "      <th>% Passing Reading</th>\n",
       "      <th>% Passing Overall</th>\n",
       "    </tr>\n",
       "    <tr>\n",
       "      <th>School Size</th>\n",
       "      <th></th>\n",
       "      <th></th>\n",
       "      <th></th>\n",
       "      <th></th>\n",
       "      <th></th>\n",
       "    </tr>\n",
       "  </thead>\n",
       "  <tbody>\n",
       "    <tr>\n",
       "      <th>Small (&lt;1000)</th>\n",
       "      <td>83.82</td>\n",
       "      <td>83.93</td>\n",
       "      <td>93.55%</td>\n",
       "      <td>96.10%</td>\n",
       "      <td>89.89%</td>\n",
       "    </tr>\n",
       "    <tr>\n",
       "      <th>Medium (1000-2000)</th>\n",
       "      <td>83.37</td>\n",
       "      <td>83.87</td>\n",
       "      <td>93.60%</td>\n",
       "      <td>96.79%</td>\n",
       "      <td>90.62%</td>\n",
       "    </tr>\n",
       "    <tr>\n",
       "      <th>Large (2000-5000)</th>\n",
       "      <td>77.75</td>\n",
       "      <td>81.34</td>\n",
       "      <td>69.96%</td>\n",
       "      <td>82.77%</td>\n",
       "      <td>58.28%</td>\n",
       "    </tr>\n",
       "  </tbody>\n",
       "</table>\n",
       "</div>"
      ],
      "text/plain": [
       "                   Average Math Score Average Reading Score % Passing Math  \\\n",
       "School Size                                                                  \n",
       "Small (<1000)                   83.82                 83.93         93.55%   \n",
       "Medium (1000-2000)              83.37                 83.87         93.60%   \n",
       "Large (2000-5000)               77.75                 81.34         69.96%   \n",
       "\n",
       "                   % Passing Reading % Passing Overall  \n",
       "School Size                                             \n",
       "Small (<1000)                 96.10%            89.89%  \n",
       "Medium (1000-2000)            96.79%            90.62%  \n",
       "Large (2000-5000)             82.77%            58.28%  "
      ]
     },
     "execution_count": 139,
     "metadata": {},
     "output_type": "execute_result"
    }
   ],
   "source": [
    "# Display results\n",
    "size_summary"
   ]
  },
  {
   "cell_type": "code",
   "execution_count": 141,
   "metadata": {},
   "outputs": [
    {
     "name": "stdout",
     "output_type": "stream",
     "text": [
      "-\n",
      "Scores by School Size:\n",
      "| School Size        |   Average Math Score |   Average Reading Score | % Passing Math   | % Passing Reading   | % Passing Overall   |\n",
      "|:-------------------|---------------------:|------------------------:|:-----------------|:--------------------|:--------------------|\n",
      "| Small (<1000)      |                83.82 |                   83.93 | 93.55%           | 96.10%              | 89.89%              |\n",
      "| Medium (1000-2000) |                83.37 |                   83.87 | 93.60%           | 96.79%              | 90.62%              |\n",
      "| Large (2000-5000)  |                77.75 |                   81.34 | 69.96%           | 82.77%              | 58.28%              |\n"
     ]
    }
   ],
   "source": [
    "# Print df to terminal when running code .py file in terminal\n",
    "print(\"-\")\n",
    "print(\"Scores by School Size:\")\n",
    "print(size_summary.to_markdown())"
   ]
  },
  {
   "cell_type": "markdown",
   "metadata": {},
   "source": [
    "## Scores by School Type"
   ]
  },
  {
   "cell_type": "code",
   "execution_count": 144,
   "metadata": {},
   "outputs": [],
   "source": [
    "# new df for School Type\n",
    "school_type_df = per_school_summary.copy()\n",
    "# school_type_df"
   ]
  },
  {
   "cell_type": "code",
   "execution_count": 146,
   "metadata": {},
   "outputs": [],
   "source": [
    "# school_type_df.dtypes"
   ]
  },
  {
   "cell_type": "code",
   "execution_count": 148,
   "metadata": {},
   "outputs": [],
   "source": [
    "#reset columns to Float instead of object for further calculations\n",
    "school_type_df = school_type_df.astype({\"Average Math Score\": \"float\",\n",
    "                         \"Average Reading Score\": \"float\",\n",
    "                         \"% Passing Math\": \"float\", \n",
    "                         \"% Passing Reading\": \"float\",\n",
    "                         \"% Passing Overall\": \"float\" })\n",
    "# school_type_df"
   ]
  },
  {
   "cell_type": "code",
   "execution_count": 150,
   "metadata": {},
   "outputs": [],
   "source": [
    "# Group the per_school_summary DataFrame by \"School Type\" and average the results.\n",
    "average_math_score_by_type = school_type_df.groupby([\"School Type\"])[\"Average Math Score\"].mean()\n",
    "average_reading_score_by_type = school_type_df.groupby([\"School Type\"])[\"Average Reading Score\"].mean()\n",
    "average_percent_passing_math_by_type = school_type_df.groupby([\"School Type\"])[\"% Passing Math\"].mean()\n",
    "average_percent_passing_reading_by_type = school_type_df.groupby([\"School Type\"])[\"% Passing Reading\"].mean()\n",
    "average_percent_overall_passing_by_type = school_type_df.groupby([\"School Type\"])[\"% Passing Overall\"].mean()"
   ]
  },
  {
   "cell_type": "code",
   "execution_count": 152,
   "metadata": {},
   "outputs": [],
   "source": [
    "# Assemble the new data by type into a DataFrame called `type_summary`\n",
    "type_summary = pd.DataFrame({\"Average Math Score\" : average_math_score_by_type ,\n",
    "                                   \"Average Reading Score\" : average_reading_score_by_type ,\n",
    "                                   \"% Passing Math\" : average_percent_passing_math_by_type ,\n",
    "                                   \"% Passing Reading\" : average_percent_passing_reading_by_type,\n",
    "                                   \"% Passing Overall\" : average_percent_overall_passing_by_type\n",
    "                            })"
   ]
  },
  {
   "cell_type": "code",
   "execution_count": 154,
   "metadata": {},
   "outputs": [],
   "source": [
    "# Formatting\n",
    "type_summary[\"Average Math Score\"] = type_summary[\"Average Math Score\"].map(\"{:,.2f}\".format)\n",
    "type_summary[\"Average Reading Score\"] = type_summary[\"Average Reading Score\"].map(\"{:,.2f}\".format)\n",
    "type_summary[\"% Passing Math\"] = type_summary[\"% Passing Math\"].map(\"{:,.2f}%\".format)\n",
    "type_summary[\"% Passing Reading\"] = type_summary[\"% Passing Reading\"].map(\"{:,.2f}%\".format)\n",
    "type_summary[\"% Passing Overall\"] = type_summary[\"% Passing Overall\"].map(\"{:,.2f}%\".format)"
   ]
  },
  {
   "cell_type": "code",
   "execution_count": 156,
   "metadata": {},
   "outputs": [
    {
     "data": {
      "text/html": [
       "<div>\n",
       "<style scoped>\n",
       "    .dataframe tbody tr th:only-of-type {\n",
       "        vertical-align: middle;\n",
       "    }\n",
       "\n",
       "    .dataframe tbody tr th {\n",
       "        vertical-align: top;\n",
       "    }\n",
       "\n",
       "    .dataframe thead th {\n",
       "        text-align: right;\n",
       "    }\n",
       "</style>\n",
       "<table border=\"1\" class=\"dataframe\">\n",
       "  <thead>\n",
       "    <tr style=\"text-align: right;\">\n",
       "      <th></th>\n",
       "      <th>Average Math Score</th>\n",
       "      <th>Average Reading Score</th>\n",
       "      <th>% Passing Math</th>\n",
       "      <th>% Passing Reading</th>\n",
       "      <th>% Passing Overall</th>\n",
       "    </tr>\n",
       "    <tr>\n",
       "      <th>School Type</th>\n",
       "      <th></th>\n",
       "      <th></th>\n",
       "      <th></th>\n",
       "      <th></th>\n",
       "      <th></th>\n",
       "    </tr>\n",
       "  </thead>\n",
       "  <tbody>\n",
       "    <tr>\n",
       "      <th>Charter</th>\n",
       "      <td>83.47</td>\n",
       "      <td>83.90</td>\n",
       "      <td>93.62%</td>\n",
       "      <td>96.59%</td>\n",
       "      <td>90.43%</td>\n",
       "    </tr>\n",
       "    <tr>\n",
       "      <th>District</th>\n",
       "      <td>76.96</td>\n",
       "      <td>80.97</td>\n",
       "      <td>66.55%</td>\n",
       "      <td>80.80%</td>\n",
       "      <td>53.67%</td>\n",
       "    </tr>\n",
       "  </tbody>\n",
       "</table>\n",
       "</div>"
      ],
      "text/plain": [
       "            Average Math Score Average Reading Score % Passing Math  \\\n",
       "School Type                                                           \n",
       "Charter                  83.47                 83.90         93.62%   \n",
       "District                 76.96                 80.97         66.55%   \n",
       "\n",
       "            % Passing Reading % Passing Overall  \n",
       "School Type                                      \n",
       "Charter                96.59%            90.43%  \n",
       "District               80.80%            53.67%  "
      ]
     },
     "execution_count": 156,
     "metadata": {},
     "output_type": "execute_result"
    }
   ],
   "source": [
    "# Display results\n",
    "type_summary"
   ]
  },
  {
   "cell_type": "code",
   "execution_count": 158,
   "metadata": {},
   "outputs": [
    {
     "name": "stdout",
     "output_type": "stream",
     "text": [
      "-\n",
      "Scores by School Type:\n",
      "| School Type   |   Average Math Score |   Average Reading Score | % Passing Math   | % Passing Reading   | % Passing Overall   |\n",
      "|:--------------|---------------------:|------------------------:|:-----------------|:--------------------|:--------------------|\n",
      "| Charter       |                83.47 |                   83.9  | 93.62%           | 96.59%              | 90.43%              |\n",
      "| District      |                76.96 |                   80.97 | 66.55%           | 80.80%              | 53.67%              |\n"
     ]
    }
   ],
   "source": [
    "# Print df to terminal when running code .py file in terminal\n",
    "print(\"-\")\n",
    "print(\"Scores by School Type:\")\n",
    "print(type_summary.to_markdown())"
   ]
  }
 ],
 "metadata": {
  "anaconda-cloud": {},
  "kernel_info": {
   "name": "python3"
  },
  "kernelspec": {
   "display_name": "Python 3 (ipykernel)",
   "language": "python",
   "name": "python3"
  },
  "language_info": {
   "codemirror_mode": {
    "name": "ipython",
    "version": 3
   },
   "file_extension": ".py",
   "mimetype": "text/x-python",
   "name": "python",
   "nbconvert_exporter": "python",
   "pygments_lexer": "ipython3",
   "version": "3.11.7"
  },
  "latex_envs": {
   "LaTeX_envs_menu_present": true,
   "autoclose": false,
   "autocomplete": true,
   "bibliofile": "biblio.bib",
   "cite_by": "apalike",
   "current_citInitial": 1,
   "eqLabelWithNumbers": true,
   "eqNumInitial": 1,
   "hotkeys": {
    "equation": "Ctrl-E",
    "itemize": "Ctrl-I"
   },
   "labels_anchors": false,
   "latex_user_defs": false,
   "report_style_numbering": false,
   "user_envs_cfg": false
  },
  "nteract": {
   "version": "0.8.4"
  },
  "vscode": {
   "interpreter": {
    "hash": "5384d77d82de63fd599f73e77f9ec786e7719288bf80a29ec0288c670ac3cf32"
   }
  }
 },
 "nbformat": 4,
 "nbformat_minor": 4
}
